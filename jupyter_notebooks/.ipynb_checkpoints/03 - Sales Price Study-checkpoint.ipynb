{
 "cells": [
  {
   "cell_type": "markdown",
   "metadata": {},
   "source": [
    "# **Sales Price Study Notebook**"
   ]
  },
  {
   "cell_type": "markdown",
   "metadata": {},
   "source": [
    "## Objectives\n",
    "\n",
    "* Answer the first business requirement:\n",
    "    * Enable the customer to visualize which features of the dataset are most closely correlated to the property price.\n",
    "        \n",
    "## Inputs\n",
    "        \n",
    "* outputs/datasets/collection/HousePricesData.csv\n",
    "\n",
    "        \n",
    "## Outputs\n",
    "        \n",
    "* Generate code that answers business requirement 1 and can be used to build the Streamlit App.\n",
    "\n",
    "## Additional comments\n",
    "\n",
    "* We will be applying the methodology described in https://github.com/Code-Institute-Solutions/churnometer/blob/main/jupyter_notebooks/02%20-%20Churned%20Customer%20Study.ipynb, adapting it to our database and business requirements.\n",
    "        "
   ]
  },
  {
   "cell_type": "markdown",
   "metadata": {},
   "source": [
    "---"
   ]
  },
  {
   "cell_type": "markdown",
   "metadata": {},
   "source": [
    "## Change working directory\n",
    "\n",
    "* We use os.getcwd() to access the current directory."
   ]
  },
  {
   "cell_type": "code",
   "execution_count": 1,
   "metadata": {},
   "outputs": [
    {
     "data": {
      "text/plain": [
       "'/workspaces/P5-heritage-housing-issues/jupyter_notebooks'"
      ]
     },
     "execution_count": 1,
     "metadata": {},
     "output_type": "execute_result"
    }
   ],
   "source": [
    "import os\n",
    "current_dir = os.getcwd()\n",
    "current_dir"
   ]
  },
  {
   "cell_type": "markdown",
   "metadata": {},
   "source": [
    "## Access the parent directory\n",
    "* We want to make the parent of the current directory the new current directory.\n",
    "    * os.path.dirname() gets the parent directory\n",
    "    * os.chir() defines the new current directory"
   ]
  },
  {
   "cell_type": "code",
   "execution_count": 2,
   "metadata": {
    "tags": []
   },
   "outputs": [
    {
     "name": "stdout",
     "output_type": "stream",
     "text": [
      "A new current directory has been set\n"
     ]
    }
   ],
   "source": [
    "os.chdir(os.path.dirname(current_dir))\n",
    "print(\"A new current directory has been set\")"
   ]
  },
  {
   "cell_type": "markdown",
   "metadata": {},
   "source": [
    "## Confirm the new current directory"
   ]
  },
  {
   "cell_type": "code",
   "execution_count": 3,
   "metadata": {},
   "outputs": [
    {
     "data": {
      "text/plain": [
       "'/workspaces/P5-heritage-housing-issues'"
      ]
     },
     "execution_count": 3,
     "metadata": {},
     "output_type": "execute_result"
    }
   ],
   "source": [
    "current_dir = os.getcwd()\n",
    "current_dir"
   ]
  },
  {
   "cell_type": "markdown",
   "metadata": {},
   "source": [
    "---"
   ]
  },
  {
   "cell_type": "markdown",
   "metadata": {},
   "source": [
    "## Import libraries"
   ]
  },
  {
   "cell_type": "code",
   "execution_count": 4,
   "metadata": {},
   "outputs": [],
   "source": [
    "# load data\n",
    "import pandas as pd\n",
    "# data exploration\n",
    "from pandas_profiling import ProfileReport\n",
    "# correlation study\n",
    "from feature_engine.encoding import OneHotEncoder\n",
    "# package for scientific computing\n",
    "import numpy as np\n",
    "# plot and graphs visualisation\n",
    "import matplotlib.pyplot as plt\n",
    "import seaborn as sns\n",
    "sns.set(style=\"whitegrid\")\n",
    "# PPS study\n",
    "import ppscore as pps\n",
    "\n",
    "\n",
    "\n"
   ]
  },
  {
   "cell_type": "markdown",
   "metadata": {},
   "source": [
    "---"
   ]
  },
  {
   "cell_type": "markdown",
   "metadata": {},
   "source": [
    "## Load data"
   ]
  },
  {
   "cell_type": "markdown",
   "metadata": {},
   "source": [
    "* Load the dataset as a pandas DataFrame and assign it to our dataframe df_prices\n",
    "* View the data in the df_prices variable"
   ]
  },
  {
   "cell_type": "code",
   "execution_count": 5,
   "metadata": {},
   "outputs": [
    {
     "data": {
      "text/html": [
       "<div>\n",
       "<style scoped>\n",
       "    .dataframe tbody tr th:only-of-type {\n",
       "        vertical-align: middle;\n",
       "    }\n",
       "\n",
       "    .dataframe tbody tr th {\n",
       "        vertical-align: top;\n",
       "    }\n",
       "\n",
       "    .dataframe thead th {\n",
       "        text-align: right;\n",
       "    }\n",
       "</style>\n",
       "<table border=\"1\" class=\"dataframe\">\n",
       "  <thead>\n",
       "    <tr style=\"text-align: right;\">\n",
       "      <th></th>\n",
       "      <th>1stFlrSF</th>\n",
       "      <th>2ndFlrSF</th>\n",
       "      <th>BedroomAbvGr</th>\n",
       "      <th>BsmtExposure</th>\n",
       "      <th>BsmtFinSF1</th>\n",
       "      <th>BsmtFinType1</th>\n",
       "      <th>BsmtUnfSF</th>\n",
       "      <th>GarageArea</th>\n",
       "      <th>GarageFinish</th>\n",
       "      <th>GarageYrBlt</th>\n",
       "      <th>...</th>\n",
       "      <th>LotArea</th>\n",
       "      <th>LotFrontage</th>\n",
       "      <th>MasVnrArea</th>\n",
       "      <th>OpenPorchSF</th>\n",
       "      <th>OverallCond</th>\n",
       "      <th>OverallQual</th>\n",
       "      <th>TotalBsmtSF</th>\n",
       "      <th>YearBuilt</th>\n",
       "      <th>YearRemodAdd</th>\n",
       "      <th>SalePrice</th>\n",
       "    </tr>\n",
       "  </thead>\n",
       "  <tbody>\n",
       "    <tr>\n",
       "      <th>0</th>\n",
       "      <td>856</td>\n",
       "      <td>854.0</td>\n",
       "      <td>3.000000</td>\n",
       "      <td>No</td>\n",
       "      <td>706</td>\n",
       "      <td>GLQ</td>\n",
       "      <td>150</td>\n",
       "      <td>548</td>\n",
       "      <td>RFn</td>\n",
       "      <td>2003.0</td>\n",
       "      <td>...</td>\n",
       "      <td>8450</td>\n",
       "      <td>65.0</td>\n",
       "      <td>196.0</td>\n",
       "      <td>61</td>\n",
       "      <td>5</td>\n",
       "      <td>7</td>\n",
       "      <td>856</td>\n",
       "      <td>2003</td>\n",
       "      <td>2003</td>\n",
       "      <td>208500</td>\n",
       "    </tr>\n",
       "    <tr>\n",
       "      <th>1</th>\n",
       "      <td>1262</td>\n",
       "      <td>0.0</td>\n",
       "      <td>3.000000</td>\n",
       "      <td>Gd</td>\n",
       "      <td>978</td>\n",
       "      <td>ALQ</td>\n",
       "      <td>284</td>\n",
       "      <td>460</td>\n",
       "      <td>RFn</td>\n",
       "      <td>1976.0</td>\n",
       "      <td>...</td>\n",
       "      <td>9600</td>\n",
       "      <td>80.0</td>\n",
       "      <td>0.0</td>\n",
       "      <td>0</td>\n",
       "      <td>8</td>\n",
       "      <td>6</td>\n",
       "      <td>1262</td>\n",
       "      <td>1976</td>\n",
       "      <td>1976</td>\n",
       "      <td>181500</td>\n",
       "    </tr>\n",
       "    <tr>\n",
       "      <th>2</th>\n",
       "      <td>920</td>\n",
       "      <td>866.0</td>\n",
       "      <td>3.000000</td>\n",
       "      <td>Mn</td>\n",
       "      <td>486</td>\n",
       "      <td>GLQ</td>\n",
       "      <td>434</td>\n",
       "      <td>608</td>\n",
       "      <td>RFn</td>\n",
       "      <td>2001.0</td>\n",
       "      <td>...</td>\n",
       "      <td>11250</td>\n",
       "      <td>68.0</td>\n",
       "      <td>162.0</td>\n",
       "      <td>42</td>\n",
       "      <td>5</td>\n",
       "      <td>7</td>\n",
       "      <td>920</td>\n",
       "      <td>2001</td>\n",
       "      <td>2002</td>\n",
       "      <td>223500</td>\n",
       "    </tr>\n",
       "    <tr>\n",
       "      <th>3</th>\n",
       "      <td>961</td>\n",
       "      <td>0.0</td>\n",
       "      <td>2.869214</td>\n",
       "      <td>No</td>\n",
       "      <td>216</td>\n",
       "      <td>ALQ</td>\n",
       "      <td>540</td>\n",
       "      <td>642</td>\n",
       "      <td>Unf</td>\n",
       "      <td>1998.0</td>\n",
       "      <td>...</td>\n",
       "      <td>9550</td>\n",
       "      <td>60.0</td>\n",
       "      <td>0.0</td>\n",
       "      <td>35</td>\n",
       "      <td>5</td>\n",
       "      <td>7</td>\n",
       "      <td>756</td>\n",
       "      <td>1915</td>\n",
       "      <td>1970</td>\n",
       "      <td>140000</td>\n",
       "    </tr>\n",
       "    <tr>\n",
       "      <th>4</th>\n",
       "      <td>1145</td>\n",
       "      <td>0.0</td>\n",
       "      <td>4.000000</td>\n",
       "      <td>Av</td>\n",
       "      <td>655</td>\n",
       "      <td>GLQ</td>\n",
       "      <td>490</td>\n",
       "      <td>836</td>\n",
       "      <td>RFn</td>\n",
       "      <td>2000.0</td>\n",
       "      <td>...</td>\n",
       "      <td>14260</td>\n",
       "      <td>84.0</td>\n",
       "      <td>350.0</td>\n",
       "      <td>84</td>\n",
       "      <td>5</td>\n",
       "      <td>8</td>\n",
       "      <td>1145</td>\n",
       "      <td>2000</td>\n",
       "      <td>2000</td>\n",
       "      <td>250000</td>\n",
       "    </tr>\n",
       "  </tbody>\n",
       "</table>\n",
       "<p>5 rows × 22 columns</p>\n",
       "</div>"
      ],
      "text/plain": [
       "   1stFlrSF  2ndFlrSF  BedroomAbvGr BsmtExposure  BsmtFinSF1 BsmtFinType1  \\\n",
       "0       856     854.0      3.000000           No         706          GLQ   \n",
       "1      1262       0.0      3.000000           Gd         978          ALQ   \n",
       "2       920     866.0      3.000000           Mn         486          GLQ   \n",
       "3       961       0.0      2.869214           No         216          ALQ   \n",
       "4      1145       0.0      4.000000           Av         655          GLQ   \n",
       "\n",
       "   BsmtUnfSF  GarageArea GarageFinish  GarageYrBlt  ...  LotArea LotFrontage  \\\n",
       "0        150         548          RFn       2003.0  ...     8450        65.0   \n",
       "1        284         460          RFn       1976.0  ...     9600        80.0   \n",
       "2        434         608          RFn       2001.0  ...    11250        68.0   \n",
       "3        540         642          Unf       1998.0  ...     9550        60.0   \n",
       "4        490         836          RFn       2000.0  ...    14260        84.0   \n",
       "\n",
       "   MasVnrArea  OpenPorchSF  OverallCond  OverallQual  TotalBsmtSF  YearBuilt  \\\n",
       "0       196.0           61            5            7          856       2003   \n",
       "1         0.0            0            8            6         1262       1976   \n",
       "2       162.0           42            5            7          920       2001   \n",
       "3         0.0           35            5            7          756       1915   \n",
       "4       350.0           84            5            8         1145       2000   \n",
       "\n",
       "   YearRemodAdd  SalePrice  \n",
       "0          2003     208500  \n",
       "1          1976     181500  \n",
       "2          2002     223500  \n",
       "3          1970     140000  \n",
       "4          2000     250000  \n",
       "\n",
       "[5 rows x 22 columns]"
      ]
     },
     "execution_count": 5,
     "metadata": {},
     "output_type": "execute_result"
    }
   ],
   "source": [
    "df_prices = (pd.read_csv(\"outputs/datasets/cleaned/HousePricesCleaned.csv\"))\n",
    "df_prices.head(5)"
   ]
  },
  {
   "cell_type": "markdown",
   "metadata": {},
   "source": [
    "## Data Exploration"
   ]
  },
  {
   "cell_type": "markdown",
   "metadata": {},
   "source": [
    "* We want to get more familiar with the dataset, check the variables. Determine their type, distribution and missing levels. We will use this exploration to create an image of what these variables mean in our project's context.\n",
    "* We will use Panda's Profile Report (https://github.com/ydataai/ydata-profiling/blob/develop/README.md) to get an analysis of each of our variables, see the missing data levels, range and so on.\n",
    "    * We notice there are 20 numerical and 4 categorical variables."
   ]
  },
  {
   "cell_type": "code",
   "execution_count": null,
   "metadata": {},
   "outputs": [],
   "source": [
    "pandas_report = ProfileReport(df=df_prices, minimal=True)\n",
    "pandas_report.to_notebook_iframe()"
   ]
  },
  {
   "cell_type": "markdown",
   "metadata": {},
   "source": [
    "## Correlation Study"
   ]
  },
  {
   "cell_type": "markdown",
   "metadata": {},
   "source": [
    "* We will use Pearson's and Sperman's correlation tests. As both only consider numerical variables, we will use OneHotEncoder to transform the categorical data. The documentation can be found here https://scikit-learn.org/stable/modules/generated/sklearn.preprocessing.OneHotEncoder.html\n",
    "* We use OneHotEncoder to replace the categorical variables with a combination of binary variables (which takes value 0 or 1) where each new binary variable is related to a label from the categorical variable."
   ]
  },
  {
   "cell_type": "code",
   "execution_count": 6,
   "metadata": {},
   "outputs": [
    {
     "name": "stdout",
     "output_type": "stream",
     "text": [
      "(1460, 38)\n"
     ]
    },
    {
     "data": {
      "text/html": [
       "<div>\n",
       "<style scoped>\n",
       "    .dataframe tbody tr th:only-of-type {\n",
       "        vertical-align: middle;\n",
       "    }\n",
       "\n",
       "    .dataframe tbody tr th {\n",
       "        vertical-align: top;\n",
       "    }\n",
       "\n",
       "    .dataframe thead th {\n",
       "        text-align: right;\n",
       "    }\n",
       "</style>\n",
       "<table border=\"1\" class=\"dataframe\">\n",
       "  <thead>\n",
       "    <tr style=\"text-align: right;\">\n",
       "      <th></th>\n",
       "      <th>1stFlrSF</th>\n",
       "      <th>2ndFlrSF</th>\n",
       "      <th>BedroomAbvGr</th>\n",
       "      <th>BsmtFinSF1</th>\n",
       "      <th>BsmtUnfSF</th>\n",
       "      <th>GarageArea</th>\n",
       "      <th>GarageYrBlt</th>\n",
       "      <th>GrLivArea</th>\n",
       "      <th>LotArea</th>\n",
       "      <th>LotFrontage</th>\n",
       "      <th>...</th>\n",
       "      <th>BsmtFinType1_BLQ</th>\n",
       "      <th>BsmtFinType1_LwQ</th>\n",
       "      <th>GarageFinish_RFn</th>\n",
       "      <th>GarageFinish_Unf</th>\n",
       "      <th>GarageFinish_None</th>\n",
       "      <th>GarageFinish_Fin</th>\n",
       "      <th>KitchenQual_Gd</th>\n",
       "      <th>KitchenQual_TA</th>\n",
       "      <th>KitchenQual_Ex</th>\n",
       "      <th>KitchenQual_Fa</th>\n",
       "    </tr>\n",
       "  </thead>\n",
       "  <tbody>\n",
       "    <tr>\n",
       "      <th>0</th>\n",
       "      <td>856</td>\n",
       "      <td>854.0</td>\n",
       "      <td>3.0</td>\n",
       "      <td>706</td>\n",
       "      <td>150</td>\n",
       "      <td>548</td>\n",
       "      <td>2003.0</td>\n",
       "      <td>1710</td>\n",
       "      <td>8450</td>\n",
       "      <td>65.0</td>\n",
       "      <td>...</td>\n",
       "      <td>0</td>\n",
       "      <td>0</td>\n",
       "      <td>1</td>\n",
       "      <td>0</td>\n",
       "      <td>0</td>\n",
       "      <td>0</td>\n",
       "      <td>1</td>\n",
       "      <td>0</td>\n",
       "      <td>0</td>\n",
       "      <td>0</td>\n",
       "    </tr>\n",
       "    <tr>\n",
       "      <th>1</th>\n",
       "      <td>1262</td>\n",
       "      <td>0.0</td>\n",
       "      <td>3.0</td>\n",
       "      <td>978</td>\n",
       "      <td>284</td>\n",
       "      <td>460</td>\n",
       "      <td>1976.0</td>\n",
       "      <td>1262</td>\n",
       "      <td>9600</td>\n",
       "      <td>80.0</td>\n",
       "      <td>...</td>\n",
       "      <td>0</td>\n",
       "      <td>0</td>\n",
       "      <td>1</td>\n",
       "      <td>0</td>\n",
       "      <td>0</td>\n",
       "      <td>0</td>\n",
       "      <td>0</td>\n",
       "      <td>1</td>\n",
       "      <td>0</td>\n",
       "      <td>0</td>\n",
       "    </tr>\n",
       "    <tr>\n",
       "      <th>2</th>\n",
       "      <td>920</td>\n",
       "      <td>866.0</td>\n",
       "      <td>3.0</td>\n",
       "      <td>486</td>\n",
       "      <td>434</td>\n",
       "      <td>608</td>\n",
       "      <td>2001.0</td>\n",
       "      <td>1786</td>\n",
       "      <td>11250</td>\n",
       "      <td>68.0</td>\n",
       "      <td>...</td>\n",
       "      <td>0</td>\n",
       "      <td>0</td>\n",
       "      <td>1</td>\n",
       "      <td>0</td>\n",
       "      <td>0</td>\n",
       "      <td>0</td>\n",
       "      <td>1</td>\n",
       "      <td>0</td>\n",
       "      <td>0</td>\n",
       "      <td>0</td>\n",
       "    </tr>\n",
       "  </tbody>\n",
       "</table>\n",
       "<p>3 rows × 38 columns</p>\n",
       "</div>"
      ],
      "text/plain": [
       "   1stFlrSF  2ndFlrSF  BedroomAbvGr  BsmtFinSF1  BsmtUnfSF  GarageArea  \\\n",
       "0       856     854.0           3.0         706        150         548   \n",
       "1      1262       0.0           3.0         978        284         460   \n",
       "2       920     866.0           3.0         486        434         608   \n",
       "\n",
       "   GarageYrBlt  GrLivArea  LotArea  LotFrontage  ...  BsmtFinType1_BLQ  \\\n",
       "0       2003.0       1710     8450         65.0  ...                 0   \n",
       "1       1976.0       1262     9600         80.0  ...                 0   \n",
       "2       2001.0       1786    11250         68.0  ...                 0   \n",
       "\n",
       "   BsmtFinType1_LwQ  GarageFinish_RFn  GarageFinish_Unf  GarageFinish_None  \\\n",
       "0                 0                 1                 0                  0   \n",
       "1                 0                 1                 0                  0   \n",
       "2                 0                 1                 0                  0   \n",
       "\n",
       "   GarageFinish_Fin  KitchenQual_Gd  KitchenQual_TA  KitchenQual_Ex  \\\n",
       "0                 0               1               0               0   \n",
       "1                 0               0               1               0   \n",
       "2                 0               1               0               0   \n",
       "\n",
       "   KitchenQual_Fa  \n",
       "0               0  \n",
       "1               0  \n",
       "2               0  \n",
       "\n",
       "[3 rows x 38 columns]"
      ]
     },
     "execution_count": 6,
     "metadata": {},
     "output_type": "execute_result"
    }
   ],
   "source": [
    "encoder = OneHotEncoder(variables=df_prices.columns[df_prices.dtypes=='object'].to_list(), drop_last=False)\n",
    "df_ohe = encoder.fit_transform(df_prices)\n",
    "print(df_ohe.shape)\n",
    "df_ohe.head(3)"
   ]
  },
  {
   "cell_type": "markdown",
   "metadata": {},
   "source": [
    "* We will create a few functions to help us in our correlation analysis."
   ]
  },
  {
   "cell_type": "code",
   "execution_count": 7,
   "metadata": {},
   "outputs": [],
   "source": [
    "def heatmap_correlation(df, threshold, title, figsize=(20,12), annot_size = 8):\n",
    "  \"\"\"\n",
    "  Function to create heatmap using Pearson's and Spearman's correlations.\n",
    "  \"\"\"\n",
    "  if len(df.columns) > 1:\n",
    "    # we create the mask for the upper diagonal and\n",
    "    # show only values greater than the threshold\n",
    "    mask = np.zeros_like(df, dtype=np.bool)\n",
    "    mask[np.triu_indices_from(mask)] = True\n",
    "    mask[abs(df) < threshold] = True\n",
    "\n",
    "    # we plot the heatmap\n",
    "    fig, axes = plt.subplots(figsize=figsize)\n",
    "    sns.heatmap(data=df, annot=True, xticklabels=True, yticklabels=True,\n",
    "                mask=mask, cmap='viridis', annot_kws={\"size\": annot_size},\n",
    "                ax=axes, linewidth=0.5).set(title=title)\n",
    "    plt.ylim(len(df.columns),0)\n",
    "\n",
    "def calculate_correlation(df):\n",
    "  \"\"\"\n",
    "  Function to calculate correlations.\n",
    "  \"\"\"\n",
    "  df_corr_spearman = df.corr(method=\"spearman\")\n",
    "  df_corr_spearman.name = 'corr_spearman'\n",
    "  df_corr_pearson = df.corr(method=\"pearson\")\n",
    "  df_corr_pearson.name = 'corr_pearson'\n",
    "\n",
    "  return df_corr_pearson, df_corr_spearman\n",
    "\n",
    "def display_correlation(df_corr_pearson, df_corr_spearman, CorrThreshold,\n",
    "                      figsize=(20,12), annot_size=8):\n",
    "  \"\"\"\n",
    "  Function to display the correlations.\n",
    "  \"\"\"\n",
    "\n",
    "  print(\"\\n\")\n",
    "  heatmap_correlation(df=df_corr_spearman, threshold=CorrThreshold, figsize=figsize, annot_size=annot_size,\n",
    "                      title=\"*** Heatmap: Spearman Correlation *** \\n Evaluates monotonic relationship\")\n",
    "\n",
    "  print(\"\\n\")\n",
    "  heatmap_correlation(df=df_corr_pearson, threshold=CorrThreshold, figsize=figsize, annot_size=annot_size,\n",
    "                      title=\"*** Heatmap: Pearson Correlation *** \\n Evaluates the linear relationship\")"
   ]
  },
  {
   "cell_type": "code",
   "execution_count": 8,
   "metadata": {},
   "outputs": [],
   "source": [
    "df_corr_pearson, df_corr_spearman = calculate_correlation(df_ohe)\n"
   ]
  },
  {
   "cell_type": "code",
   "execution_count": 9,
   "metadata": {},
   "outputs": [
    {
     "name": "stdout",
     "output_type": "stream",
     "text": [
      "\n",
      "\n",
      "\n",
      "\n"
     ]
    }
   ],
   "source": [
    "%matplotlib inline\n",
    "display_correlation(df_corr_pearson = df_corr_pearson,\n",
    "                  df_corr_spearman = df_corr_spearman,\n",
    "                  CorrThreshold = 0.45,\n",
    "                  figsize=(20,12), annot_size=10)"
   ]
  },
  {
   "cell_type": "markdown",
   "metadata": {},
   "source": [
    "* In this dataset, the target variable is SalePrice, so only look at correlations with SalePrice, and sort values by their absolute value, using .sort_values(key=abs, ascending=False). We know the first value will be the target variable itself, so we eliminate it by starting at the second position with [1:]. We will be looking at the top ten correlations in this study.\n",
    "* We show the top ten values for both Spearman's and Pearson's correlations."
   ]
  },
  {
   "cell_type": "code",
   "execution_count": 18,
   "metadata": {},
   "outputs": [
    {
     "data": {
      "text/plain": [
       "OverallQual     0.809829\n",
       "GrLivArea       0.731310\n",
       "YearBuilt       0.652682\n",
       "GarageArea      0.649379\n",
       "TotalBsmtSF     0.602725\n",
       "1stFlrSF        0.575408\n",
       "YearRemodAdd    0.571159\n",
       "GarageYrBlt     0.563256\n",
       "OpenPorchSF     0.477561\n",
       "LotArea         0.456461\n",
       "MasVnrArea      0.415906\n",
       "LotFrontage     0.390963\n",
       "Name: SalePrice, dtype: float64"
      ]
     },
     "execution_count": 18,
     "metadata": {},
     "output_type": "execute_result"
    }
   ],
   "source": [
    "corr_spearman = df_ohe.corr(method='spearman')['SalePrice'].sort_values(key=abs, ascending=False)[1:].head(10)\n",
    "corr_spearman"
   ]
  },
  {
   "cell_type": "code",
   "execution_count": 16,
   "metadata": {},
   "outputs": [
    {
     "data": {
      "text/plain": [
       "OverallQual     0.790982\n",
       "GrLivArea       0.708624\n",
       "GarageArea      0.623431\n",
       "TotalBsmtSF     0.613581\n",
       "1stFlrSF        0.605852\n",
       "YearBuilt       0.522897\n",
       "YearRemodAdd    0.507101\n",
       "MasVnrArea      0.472614\n",
       "GarageYrBlt     0.466754\n",
       "BsmtFinSF1      0.386420\n",
       "Name: SalePrice, dtype: float64"
      ]
     },
     "execution_count": 16,
     "metadata": {},
     "output_type": "execute_result"
    }
   ],
   "source": [
    "corr_pearson = df_ohe.corr(method='pearson')['SalePrice'].sort_values(key=abs, ascending=False)[1:].head(10)\n",
    "corr_pearson"
   ]
  },
  {
   "cell_type": "markdown",
   "metadata": {},
   "source": [
    "We merge both correlations and avoid duplications by using set()"
   ]
  },
  {
   "cell_type": "code",
   "execution_count": 19,
   "metadata": {},
   "outputs": [
    {
     "data": {
      "text/plain": [
       "{'1stFlrSF',\n",
       " 'BsmtFinSF1',\n",
       " 'GarageArea',\n",
       " 'GarageYrBlt',\n",
       " 'GrLivArea',\n",
       " 'LotArea',\n",
       " 'MasVnrArea',\n",
       " 'OpenPorchSF',\n",
       " 'OverallQual',\n",
       " 'TotalBsmtSF',\n",
       " 'YearBuilt',\n",
       " 'YearRemodAdd'}"
      ]
     },
     "execution_count": 19,
     "metadata": {},
     "output_type": "execute_result"
    }
   ],
   "source": [
    "top_n = 10\n",
    "set(corr_pearson[:top_n].index.to_list() + corr_spearman[:top_n].index.to_list())"
   ]
  },
  {
   "cell_type": "markdown",
   "metadata": {},
   "source": [
    "* We create a list of our top 12 most influential variables from the correlation study."
   ]
  },
  {
   "cell_type": "code",
   "execution_count": 14,
   "metadata": {},
   "outputs": [
    {
     "data": {
      "text/plain": [
       "['1stFlrSF',\n",
       " '2ndFlrSF',\n",
       " 'BedroomAbvGr',\n",
       " 'BsmtFinSF1',\n",
       " 'GarageArea',\n",
       " 'GarageYrBlt',\n",
       " 'GrLivArea',\n",
       " 'LotArea',\n",
       " 'LotFrontage',\n",
       " 'MasVnrArea',\n",
       " 'OpenPorchSF',\n",
       " 'OverallQual',\n",
       " 'TotalBsmtSF',\n",
       " 'YearBuilt',\n",
       " 'YearRemodAdd']"
      ]
     },
     "execution_count": 14,
     "metadata": {},
     "output_type": "execute_result"
    }
   ],
   "source": [
    "correlation_vars = ['1stFlrSF',\n",
    " 'GarageArea',\n",
    " 'GarageYrBlt',\n",
    " 'GrLivArea',\n",
    " 'KitchenQual_Ex',\n",
    " 'KitchenQual_Gd',\n",
    " 'KitchenQual_TA',\n",
    " 'MasVnrArea',\n",
    " 'OverallQual',\n",
    " 'TotalBsmtSF',\n",
    " 'YearBuilt',\n",
    " 'YearRemodAdd'] \n",
    "correlation_vars"
   ]
  },
  {
   "cell_type": "markdown",
   "metadata": {},
   "source": [
    "## PPS study\n",
    "\n",
    "* The predictive power score detects linear or non-linear relationships between two variables. It helps to find predictive patterns in the data.\n",
    "* It  will give additional insights into our data, including finding potential best univariate predictors for our target variable.\n",
    "* As it is data-type-agnostic we can use the df_prices dataframe, without converting our categorical variables.\n",
    "\n",
    "* First we will create a pairplot in order to have a visual insight into the correlation between our variables. As there is a lot of data, we will only visualise the row and column for SalePrice.\n",
    "    * In order to do so, we first create a list of all our variables"
   ]
  },
  {
   "cell_type": "code",
   "execution_count": null,
   "metadata": {},
   "outputs": [],
   "source": [
    "variables_list = list(df_prices.columns)\n",
    "variables_list"
   ]
  },
  {
   "cell_type": "markdown",
   "metadata": {},
   "source": [
    "We will then display the row for SalePrice:"
   ]
  },
  {
   "cell_type": "code",
   "execution_count": null,
   "metadata": {},
   "outputs": [],
   "source": [
    "sns.pairplot(\n",
    "    df_prices,\n",
    "    x_vars=variables_list,\n",
    "    y_vars=[\"SalePrice\"],\n",
    ")"
   ]
  },
  {
   "cell_type": "markdown",
   "metadata": {},
   "source": [
    "And it's column:"
   ]
  },
  {
   "cell_type": "code",
   "execution_count": null,
   "metadata": {},
   "outputs": [],
   "source": [
    "sns.pairplot(\n",
    "    df_prices,\n",
    "    x_vars=[\"SalePrice\"],\n",
    "    y_vars=variables_list,\n",
    ")"
   ]
  },
  {
   "cell_type": "markdown",
   "metadata": {},
   "source": [
    "* As for the correlation analysis, we will create a helper function to calculate and display the PPS"
   ]
  },
  {
   "cell_type": "code",
   "execution_count": null,
   "metadata": {},
   "outputs": [],
   "source": [
    "def heatmap_pps(df,threshold, figsize=(20,12), font_annot = 8):\n",
    "    \"\"\"\n",
    "    Function to create heatmap using pps.\n",
    "    \"\"\"\n",
    "    if len(df.columns) > 1:\n",
    "\n",
    "      mask = np.zeros_like(df, dtype=np.bool)\n",
    "      mask[abs(df) < threshold] = True\n",
    "\n",
    "      fig, ax = plt.subplots(figsize=figsize)\n",
    "      ax = sns.heatmap(df, annot=True, xticklabels=True,yticklabels=True,\n",
    "                       mask=mask,cmap='rocket_r', annot_kws={\"size\": font_annot},\n",
    "                       linewidth=0.05,linecolor='grey')\n",
    "      \n",
    "      plt.ylim(len(df.columns),0)\n",
    "      plt.show()\n",
    "\n",
    "def CalculatePPS(df):\n",
    "  \"\"\"\n",
    "  Function to calculate pps.\n",
    "  \"\"\"\n",
    "  pps_matrix_raw = pps.matrix(df)\n",
    "  pps_matrix = pps_matrix_raw.filter(['x', 'y', 'ppscore']).pivot(columns='x', index='y', values='ppscore')\n",
    "\n",
    "  pps_score_stats = pps_matrix_raw.query(\"ppscore < 1\").filter(['ppscore']).describe().T\n",
    "  print(\"PPS threshold - check PPS score IQR to decide threshold for heatmap \\n\")\n",
    "  print(pps_score_stats.round(3))\n",
    "\n",
    "  return pps_matrix\n",
    "\n",
    "def DisplayPPS(pps_matrix,PPS_Threshold,\n",
    "                      figsize=(20,12), font_annot=8 ):\n",
    "  \"\"\"\n",
    "  Function to display the pps.\n",
    "  \"\"\"\n",
    "  print(\"\\n\")\n",
    "  print(\"*** Heatmap: Power Predictive Score (PPS) ***\")\n",
    "  print(f\"PPS detects linear or non-linear relationships between two columns.\\n\"\n",
    "        f\"The score ranges from 0 (no predictive power) to 1 (perfect predictive power) \\n\")\n",
    "  heatmap_pps(df=pps_matrix,threshold=PPS_Threshold, figsize=figsize, font_annot=font_annot)"
   ]
  },
  {
   "cell_type": "markdown",
   "metadata": {},
   "source": [
    "* We will display the PPS threshold report to help us decide on a threshold for the PPS heatmap\n",
    "    * We can see that the top 25% of our variables have a PPS score superior to 0.076 with a maximum score of 0.625. Our mean PPS score is of 0.059"
   ]
  },
  {
   "cell_type": "code",
   "execution_count": null,
   "metadata": {},
   "outputs": [],
   "source": [
    "pps_matrix = CalculatePPS(df_prices)"
   ]
  },
  {
   "cell_type": "markdown",
   "metadata": {},
   "source": [
    "* For further insight, we will display the list of our predictors (features) and their ppscore regarding our target variable, SalePrice\n",
    "\n",
    "    * We notice that our top ten predictive features have a ppscore superior to 0.06. We will therefore select that value as our heatmap threshold."
   ]
  },
  {
   "cell_type": "code",
   "execution_count": null,
   "metadata": {},
   "outputs": [],
   "source": [
    "df_pps = pps.predictors(df_prices, \"SalePrice\", output=\"df\", sorted=True)\n",
    "df_pps"
   ]
  },
  {
   "cell_type": "markdown",
   "metadata": {},
   "source": [
    "* We will now display the heatmap, showing values above our selected threshold of 0.06"
   ]
  },
  {
   "cell_type": "code",
   "execution_count": null,
   "metadata": {},
   "outputs": [],
   "source": [
    "DisplayPPS(pps_matrix = pps_matrix, PPS_Threshold =0.06,\n",
    "                  figsize=(12,10), font_annot=10)"
   ]
  },
  {
   "cell_type": "markdown",
   "metadata": {},
   "source": [
    "* We create a list with our top 10 PPS predictors"
   ]
  },
  {
   "cell_type": "code",
   "execution_count": null,
   "metadata": {},
   "outputs": [],
   "source": [
    "top_n = 10\n",
    "df_top_pps = df_pps[:top_n]\n",
    "pps_vars = df_top_pps['x'].tolist()\n",
    "pps_vars"
   ]
  },
  {
   "cell_type": "markdown",
   "metadata": {},
   "source": [
    "* Just as a reminder, let's display the most correlated features"
   ]
  },
  {
   "cell_type": "code",
   "execution_count": null,
   "metadata": {},
   "outputs": [],
   "source": [
    "correlation_vars"
   ]
  },
  {
   "cell_type": "markdown",
   "metadata": {},
   "source": [
    "* We combine our top correlation features and our top PPS features to get the list of most influential variables using set to avoid duplicates.\n",
    "    * We will remove the OneHotEncoder variables related to the kitchen quality as the categorical variable \"KitchenQual\" represents them. They did confirm that the higher the quality of the kitchen, the highest it's influence.\n",
    "    * We will also remove \"MasVnrArea\" as we know from our data exploration that it contains more than 50% of zero values."
   ]
  },
  {
   "cell_type": "code",
   "execution_count": null,
   "metadata": {},
   "outputs": [],
   "source": [
    "set(pps_vars + correlation_vars)"
   ]
  },
  {
   "cell_type": "markdown",
   "metadata": {},
   "source": [
    "* We create a list of our most influencial variables"
   ]
  },
  {
   "cell_type": "code",
   "execution_count": null,
   "metadata": {},
   "outputs": [],
   "source": [
    "vars_to_study = ['1stFlrSF',\n",
    " 'BsmtFinType1',\n",
    " 'GarageArea',\n",
    " 'GarageFinish',\n",
    " 'GarageYrBlt',\n",
    " 'GrLivArea',\n",
    " 'KitchenQual',\n",
    " 'LotFrontage',\n",
    " 'OverallQual',\n",
    " 'TotalBsmtSF',\n",
    " 'YearBuilt',\n",
    " 'YearRemodAdd']"
   ]
  },
  {
   "cell_type": "markdown",
   "metadata": {},
   "source": [
    "## EDA on influential variables\n",
    "\n",
    "* We will now conduct an Exporatory Data Analaysis with the features that have the most correlation to our target variable, SalePrice.\n",
    "\n",
    "* We create a separate DataFrame for the EDA by adding SalePrice so that we can use data visualization to draw insights about the relationship between each feature and the target."
   ]
  },
  {
   "cell_type": "code",
   "execution_count": null,
   "metadata": {},
   "outputs": [],
   "source": [
    "df_eda = df_prices.filter(vars_to_study + ['SalePrice'])\n",
    "df_eda.head()"
   ]
  },
  {
   "cell_type": "markdown",
   "metadata": {},
   "source": [
    "### Target variable analysis\n",
    "\n",
    "* Distribution of SalePrice\n",
    "\n",
    "    * We will start by having a look at the distribution of our target variable through a histogram:\n",
    "\n",
    "    - We can see that our target variable is skewed to the right. This is due to the fact that a few houses sell for a very high price"
   ]
  },
  {
   "cell_type": "code",
   "execution_count": null,
   "metadata": {},
   "outputs": [],
   "source": [
    "def plot_target_hist(df, target_var):\n",
    "  \"\"\"\n",
    "  Function to plot a histogram of the target.\n",
    "  \"\"\"\n",
    "  plt.figure(figsize=(12, 5))\n",
    "  sns.histplot(data=df, x=target_var, kde=True)\n",
    "  plt.title(f\"Distribution of {target_var}\", fontsize=20)       \n",
    "  plt.show()\n",
    "\n",
    "plot_target_hist(df_eda, 'SalePrice')"
   ]
  },
  {
   "cell_type": "markdown",
   "metadata": {},
   "source": [
    "### Bivariate plots\n",
    "\n",
    "* We will plot the sale price in relation to our selected features in order to answer our first business requirement, \"discovering how the house attributes correlate with the sale price\".\n",
    "\n",
    "    * We notice that that higher sale prices tend to be associated to higher value features. This is true for all our plot types:  linear regression plots, box plots as well as line plots (time variables).\n",
    "    * As for our target variable distribution, we notice some outlying values. We will work on these in the feature engineering notebook to prepare the data for modeling."
   ]
  },
  {
   "cell_type": "code",
   "execution_count": null,
   "metadata": {},
   "outputs": [],
   "source": [
    "def plot_box(df, col, target_var):\n",
    "  \"\"\"\n",
    "  Function to create a box plot of the target and\n",
    "  categorical variables.\n",
    "  \"\"\"\n",
    "  plt.figure(figsize=(8, 5))\n",
    "  sns.boxplot(data=df, x=col, y=target_var) \n",
    "  plt.title(f\"{col}\", fontsize=20)\n",
    "  plt.show()\n",
    "\n",
    "def plot_line(df, col, target_var):\n",
    "  \"\"\"\n",
    "  Function to create a line plot of the target and\n",
    "  time variables (years).\n",
    "  \"\"\"\n",
    "  plt.figure(figsize=(12, 5))\n",
    "  sns.lineplot(data=df, x=col, y=target_var)\n",
    "  plt.title(f\"{col}\", fontsize=20)        \n",
    "  plt.show()\n",
    "\n",
    "def plot_lm(df, col, target_var):\n",
    "  \"\"\"\n",
    "  Function to create linear regression plots of the target and\n",
    "  features with continuous values.\n",
    "  \"\"\"\n",
    "  plt.figure(figsize=(12, 5))\n",
    "  sns.lmplot(data=df, x=col, y=target_var, ci=None)\n",
    "  plt.title(f\"{col}\", fontsize=20)       \n",
    "  plt.show()\n",
    "\n",
    "target_var = 'SalePrice'\n",
    "time = ['YearBuilt', 'YearRemodAdd']\n",
    "\n",
    "for col in vars_to_study:\n",
    "  if len(df_eda[col].unique()) <= 10:\n",
    "    plot_box(df_eda, col, target_var)\n",
    "    print(\"\\n\\n\")\n",
    "  else:\n",
    "    if col in time:\n",
    "      plot_line(df_eda, col, target_var)\n",
    "      print(\"\\n\\n\")\n",
    "    else:\n",
    "      plot_lm(df_eda, col, target_var)\n",
    "      print(\"\\n\\n\")"
   ]
  },
  {
   "cell_type": "markdown",
   "metadata": {},
   "source": [
    "---"
   ]
  },
  {
   "cell_type": "markdown",
   "metadata": {},
   "source": [
    "## Conclusions\n",
    "\n",
    "- From our correlation analysis we have determined the most influential variables. They confirm our three hypothesises:\n",
    "    - The size of the house is positively correlated to the sale price. We can see this through the features 1stFlrSF, GarageArea, GrLivArea, LotFrontage and TotalBsmtSF.\n",
    "    - The quality/condition of the property is positively correlated to the sale price. Features such as BsmtFinType1, GarageFinish,KitchenQual or OverallQual confirm this.\n",
    "    - The age of a house is negatively correlated to the sale price. GarageYrBlt, YearBuilt and YearRemodAdd confirm this hypothesis."
   ]
  }
 ],
 "metadata": {
  "kernelspec": {
   "display_name": "Python 3 (ipykernel)",
   "language": "python",
   "name": "python3"
  },
  "language_info": {
   "codemirror_mode": {
    "name": "ipython",
    "version": 3
   },
   "file_extension": ".py",
   "mimetype": "text/x-python",
   "name": "python",
   "nbconvert_exporter": "python",
   "pygments_lexer": "ipython3",
   "version": "3.8.12"
  }
 },
 "nbformat": 4,
 "nbformat_minor": 2
}
